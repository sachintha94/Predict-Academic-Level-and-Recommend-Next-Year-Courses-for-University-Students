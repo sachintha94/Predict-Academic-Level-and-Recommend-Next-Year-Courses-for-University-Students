{
  "nbformat": 4,
  "nbformat_minor": 0,
  "metadata": {
    "colab": {
      "provenance": []
    },
    "kernelspec": {
      "name": "python3",
      "display_name": "Python 3"
    },
    "language_info": {
      "name": "python"
    }
  },
  "cells": [
    {
      "cell_type": "code",
      "execution_count": 1,
      "metadata": {
        "id": "jxwhrHEcPWw4"
      },
      "outputs": [],
      "source": [
        "# Libraries\n",
        "import pandas as pd\n",
        "import seaborn as sns\n",
        "import matplotlib.pyplot as plt\n",
        "from sklearn.ensemble import RandomForestClassifier\n",
        "from sklearn.model_selection import train_test_split\n",
        "from sklearn.metrics import accuracy_score\n",
        "from sklearn.metrics import accuracy_score, precision_score, recall_score, f1_score, confusion_matrix"
      ]
    },
    {
      "cell_type": "code",
      "source": [
        "# import Dataset\n",
        "Data = pd.read_csv('/content/course_data.csv')"
      ],
      "metadata": {
        "id": "a6f3MgGIQPQR"
      },
      "execution_count": 2,
      "outputs": []
    },
    {
      "cell_type": "code",
      "source": [
        "print(Data)"
      ],
      "metadata": {
        "colab": {
          "base_uri": "https://localhost:8080/"
        },
        "id": "6vRdY2MtSIkt",
        "outputId": "48928d2e-c60f-4cdd-96ac-879dfd79214b"
      },
      "execution_count": 3,
      "outputs": [
        {
          "output_type": "stream",
          "name": "stdout",
          "text": [
            "       Total_credit  X3C  X3E  X4C  X4E  X5C  X5E  X6C  X7C  X7E  ...  J4E  \\\n",
            "0                32   18    2    0    0    0    0    0    0    0  ...    0   \n",
            "1                27   15    0    0    0    0    0    0    0    0  ...    0   \n",
            "2                11    6    0    0    0    0    0    0    0    0  ...    0   \n",
            "3                35   25    0    0    0    0    0    0    0    0  ...    0   \n",
            "4                21   16    0    0    0    0    0    0    0    0  ...    0   \n",
            "...             ...  ...  ...  ...  ...  ...  ...  ...  ...  ...  ...  ...   \n",
            "24995           153   25    2   20    3   21    0    6    7    4  ...    0   \n",
            "24996           155   25    2   20    3   21    2    6    7    4  ...    2   \n",
            "24997           151   25    2   20    3   21    0    6    7    5  ...    0   \n",
            "24998           150   25    2   20    3   21    0    6    7    4  ...    2   \n",
            "24999           153   25    2   20    3   21    2    6    7    5  ...    2   \n",
            "\n",
            "       J5C  J5E  M3C  M4C  M5C  M6C  W4C  W5C       Class  \n",
            "0        0    0    2    0    0    0    0    0  Incomplete  \n",
            "1        0    0    2    0    0    0    0    0  Incomplete  \n",
            "2        0    0    0    0    0    0    0    0  Incomplete  \n",
            "3        0    0    0    0    0    0    0    0  Incomplete  \n",
            "4        0    0    0    0    0    0    0    0  Incomplete  \n",
            "...    ...  ...  ...  ...  ...  ...  ...  ...         ...  \n",
            "24995    3    0    2    3    4    8    3    5     Level 7  \n",
            "24996    3    0    2    3    4    8    3    5     Level 7  \n",
            "24997    3    0    2    3    4    8    3    5     Level 7  \n",
            "24998    3    0    2    3    4    8    3    5     Level 7  \n",
            "24999    3    0    2    3    4    8    3    5     Level 7  \n",
            "\n",
            "[25000 rows x 26 columns]\n"
          ]
        }
      ]
    },
    {
      "cell_type": "code",
      "source": [
        "print(Data['Class'].unique())"
      ],
      "metadata": {
        "colab": {
          "base_uri": "https://localhost:8080/"
        },
        "id": "-NPNNGWnQc4P",
        "outputId": "05056981-136e-449a-ca85-6987047476d4"
      },
      "execution_count": 4,
      "outputs": [
        {
          "output_type": "stream",
          "name": "stdout",
          "text": [
            "['Incomplete' 'Level 3' 'Level 4' 'Level 5' 'Level 6' 'Level 7']\n"
          ]
        }
      ]
    },
    {
      "cell_type": "code",
      "source": [
        "# Map values for each column individually\n",
        "Data['Class'] = Data['Class'].map({'Incomplete': 0,'Level 3': 1, 'Level 4': 2, 'Level 5': 3, 'Level 6': 4, 'Level 7': 5})"
      ],
      "metadata": {
        "id": "T0xd4IZZREuK"
      },
      "execution_count": 5,
      "outputs": []
    },
    {
      "cell_type": "code",
      "source": [
        "print(Data.head(50))"
      ],
      "metadata": {
        "colab": {
          "base_uri": "https://localhost:8080/"
        },
        "id": "8eeF_p8SRbu0",
        "outputId": "fa216ebe-0c67-49eb-af0f-3c2125644be5"
      },
      "execution_count": 7,
      "outputs": [
        {
          "output_type": "stream",
          "name": "stdout",
          "text": [
            "    Total_credit  X3C  X3E  X4C  X4E  X5C  X5E  X6C  X7C  X7E  ...  J4E  J5C  \\\n",
            "0             32   18    2    0    0    0    0    0    0    0  ...    0    0   \n",
            "1             27   15    0    0    0    0    0    0    0    0  ...    0    0   \n",
            "2             11    6    0    0    0    0    0    0    0    0  ...    0    0   \n",
            "3             35   25    0    0    0    0    0    0    0    0  ...    0    0   \n",
            "4             21   16    0    0    0    0    0    0    0    0  ...    0    0   \n",
            "5             22   12    0    0    0    0    0    0    0    0  ...    0    0   \n",
            "6             27   18    2    0    0    0    0    0    0    0  ...    0    0   \n",
            "7             30   21    2    0    0    0    0    0    0    0  ...    0    0   \n",
            "8             23   11    2    0    0    0    0    0    0    0  ...    0    0   \n",
            "9             24   14    0    0    0    0    0    0    0    0  ...    0    0   \n",
            "10            10   10    0    0    0    0    0    0    0    0  ...    0    0   \n",
            "11            29   22    0    0    0    0    0    0    0    0  ...    0    0   \n",
            "12            13   11    0    0    0    0    0    0    0    0  ...    0    0   \n",
            "13            23    9    2    0    0    0    0    0    0    0  ...    0    0   \n",
            "14            39   25    2    0    0    0    0    0    0    0  ...    0    0   \n",
            "15            29   22    2    0    0    0    0    0    0    0  ...    0    0   \n",
            "16            28   21    2    0    0    0    0    0    0    0  ...    0    0   \n",
            "17            21   14    0    0    0    0    0    0    0    0  ...    0    0   \n",
            "18            24   12    0    0    0    0    0    0    0    0  ...    0    0   \n",
            "19            15    8    2    0    0    0    0    0    0    0  ...    0    0   \n",
            "20            22   15    0    0    0    0    0    0    0    0  ...    0    0   \n",
            "21            25   18    0    0    0    0    0    0    0    0  ...    0    0   \n",
            "22            10   10    0    0    0    0    0    0    0    0  ...    0    0   \n",
            "23            19    9    0    0    0    0    0    0    0    0  ...    0    0   \n",
            "24            31   19    2    0    0    0    0    0    0    0  ...    0    0   \n",
            "25            32   20    0    0    0    0    0    0    0    0  ...    0    0   \n",
            "26            10    3    0    0    0    0    0    0    0    0  ...    0    0   \n",
            "27            15    8    0    0    0    0    0    0    0    0  ...    0    0   \n",
            "28            18   11    2    0    0    0    0    0    0    0  ...    0    0   \n",
            "29            34   25    2    0    0    0    0    0    0    0  ...    0    0   \n",
            "30            13   13    0    0    0    0    0    0    0    0  ...    0    0   \n",
            "31            37   25    0    0    0    0    0    0    0    0  ...    0    0   \n",
            "32            16   14    0    0    0    0    0    0    0    0  ...    0    0   \n",
            "33            21   14    0    0    0    0    0    0    0    0  ...    0    0   \n",
            "34            33   21    0    0    0    0    0    0    0    0  ...    0    0   \n",
            "35            12    3    2    0    0    0    0    0    0    0  ...    0    0   \n",
            "36            22   15    0    0    0    0    0    0    0    0  ...    0    0   \n",
            "37            34   22    0    0    0    0    0    0    0    0  ...    0    0   \n",
            "38            33   24    2    0    0    0    0    0    0    0  ...    0    0   \n",
            "39            25   11    2    0    0    0    0    0    0    0  ...    0    0   \n",
            "40            17   10    2    0    0    0    0    0    0    0  ...    0    0   \n",
            "41            15    8    0    0    0    0    0    0    0    0  ...    0    0   \n",
            "42            12   10    0    0    0    0    0    0    0    0  ...    0    0   \n",
            "43            19   14    0    0    0    0    0    0    0    0  ...    0    0   \n",
            "44            19   12    0    0    0    0    0    0    0    0  ...    0    0   \n",
            "45            35   21    2    0    0    0    0    0    0    0  ...    0    0   \n",
            "46            26   14    0    0    0    0    0    0    0    0  ...    0    0   \n",
            "47            32   18    2    0    0    0    0    0    0    0  ...    0    0   \n",
            "48            12    7    0    0    0    0    0    0    0    0  ...    0    0   \n",
            "49            18   13    0    0    0    0    0    0    0    0  ...    0    0   \n",
            "\n",
            "    J5E  M3C  M4C  M5C  M6C  W4C  W5C  Class  \n",
            "0     0    2    0    0    0    0    0      0  \n",
            "1     0    2    0    0    0    0    0      0  \n",
            "2     0    0    0    0    0    0    0      0  \n",
            "3     0    0    0    0    0    0    0      0  \n",
            "4     0    0    0    0    0    0    0      0  \n",
            "5     0    0    0    0    0    0    0      0  \n",
            "6     0    2    0    0    0    0    0      0  \n",
            "7     0    2    0    0    0    0    0      0  \n",
            "8     0    0    0    0    0    0    0      0  \n",
            "9     0    0    0    0    0    0    0      0  \n",
            "10    0    0    0    0    0    0    0      0  \n",
            "11    0    2    0    0    0    0    0      0  \n",
            "12    0    2    0    0    0    0    0      0  \n",
            "13    0    2    0    0    0    0    0      0  \n",
            "14    0    2    0    0    0    0    0      1  \n",
            "15    0    0    0    0    0    0    0      0  \n",
            "16    0    0    0    0    0    0    0      0  \n",
            "17    0    2    0    0    0    0    0      0  \n",
            "18    0    2    0    0    0    0    0      0  \n",
            "19    0    0    0    0    0    0    0      0  \n",
            "20    0    2    0    0    0    0    0      0  \n",
            "21    0    2    0    0    0    0    0      0  \n",
            "22    0    0    0    0    0    0    0      0  \n",
            "23    0    0    0    0    0    0    0      0  \n",
            "24    0    0    0    0    0    0    0      0  \n",
            "25    0    2    0    0    0    0    0      0  \n",
            "26    0    2    0    0    0    0    0      0  \n",
            "27    0    2    0    0    0    0    0      0  \n",
            "28    0    0    0    0    0    0    0      0  \n",
            "29    0    2    0    0    0    0    0      0  \n",
            "30    0    0    0    0    0    0    0      0  \n",
            "31    0    2    0    0    0    0    0      0  \n",
            "32    0    2    0    0    0    0    0      0  \n",
            "33    0    2    0    0    0    0    0      0  \n",
            "34    0    2    0    0    0    0    0      0  \n",
            "35    0    2    0    0    0    0    0      0  \n",
            "36    0    2    0    0    0    0    0      0  \n",
            "37    0    2    0    0    0    0    0      0  \n",
            "38    0    2    0    0    0    0    0      0  \n",
            "39    0    2    0    0    0    0    0      0  \n",
            "40    0    0    0    0    0    0    0      0  \n",
            "41    0    2    0    0    0    0    0      0  \n",
            "42    0    2    0    0    0    0    0      0  \n",
            "43    0    0    0    0    0    0    0      0  \n",
            "44    0    2    0    0    0    0    0      0  \n",
            "45    0    2    0    0    0    0    0      0  \n",
            "46    0    2    0    0    0    0    0      0  \n",
            "47    0    2    0    0    0    0    0      0  \n",
            "48    0    0    0    0    0    0    0      0  \n",
            "49    0    0    0    0    0    0    0      0  \n",
            "\n",
            "[50 rows x 26 columns]\n"
          ]
        }
      ]
    },
    {
      "cell_type": "code",
      "source": [
        "# Class divide\n",
        "X = Data.iloc[:, :-1]\n",
        "y = Data.iloc[:, -1]"
      ],
      "metadata": {
        "id": "V1JTuYizT89Y"
      },
      "execution_count": 8,
      "outputs": []
    },
    {
      "cell_type": "code",
      "source": [
        "# Verify that X and y\n",
        "print(\"Features (X):\")\n",
        "print(X.head())\n",
        "\n",
        "print(\"\\nTarget (y):\")\n",
        "print(y.head())"
      ],
      "metadata": {
        "colab": {
          "base_uri": "https://localhost:8080/"
        },
        "id": "KorOV3DgVQXN",
        "outputId": "912d4092-b090-4887-c45e-801586063bcf"
      },
      "execution_count": 9,
      "outputs": [
        {
          "output_type": "stream",
          "name": "stdout",
          "text": [
            "Features (X):\n",
            "   Total_credit  X3C  X3E  X4C  X4E  X5C  X5E  X6C  X7C  X7E  ...  J3E  J4E  \\\n",
            "0            32   18    2    0    0    0    0    0    0    0  ...    0    0   \n",
            "1            27   15    0    0    0    0    0    0    0    0  ...    0    0   \n",
            "2            11    6    0    0    0    0    0    0    0    0  ...    0    0   \n",
            "3            35   25    0    0    0    0    0    0    0    0  ...    0    0   \n",
            "4            21   16    0    0    0    0    0    0    0    0  ...    0    0   \n",
            "\n",
            "   J5C  J5E  M3C  M4C  M5C  M6C  W4C  W5C  \n",
            "0    0    0    2    0    0    0    0    0  \n",
            "1    0    0    2    0    0    0    0    0  \n",
            "2    0    0    0    0    0    0    0    0  \n",
            "3    0    0    0    0    0    0    0    0  \n",
            "4    0    0    0    0    0    0    0    0  \n",
            "\n",
            "[5 rows x 25 columns]\n",
            "\n",
            "Target (y):\n",
            "0    0\n",
            "1    0\n",
            "2    0\n",
            "3    0\n",
            "4    0\n",
            "Name: Class, dtype: int64\n"
          ]
        }
      ]
    },
    {
      "cell_type": "markdown",
      "source": [
        "---------------------------- Training Dataset Using Random Forest ----------------------------"
      ],
      "metadata": {
        "id": "ycbzpB-6Vnkf"
      }
    },
    {
      "cell_type": "code",
      "source": [
        "#Split the data into training and testing sets\n",
        "X_train, X_test, y_train, y_test = train_test_split(X, y, test_size=0.3, random_state=1)"
      ],
      "metadata": {
        "id": "wMh4ulPwVeiI"
      },
      "execution_count": 15,
      "outputs": []
    },
    {
      "cell_type": "code",
      "source": [
        "#Train with RandomForestClassifier\n",
        "model = RandomForestClassifier(random_state=1)\n",
        "model.fit(X_train, y_train)\n",
        "y_pred = model.predict(X_test)"
      ],
      "metadata": {
        "id": "DzBBskXjWIbv"
      },
      "execution_count": 16,
      "outputs": []
    },
    {
      "cell_type": "code",
      "source": [
        "accuracy = accuracy_score(y_test, y_pred)\n",
        "precision = precision_score(y_test, y_pred, average='weighted')\n",
        "recall = recall_score(y_test, y_pred, average='weighted')\n",
        "f1 = f1_score(y_test, y_pred, average='weighted')\n",
        "\n",
        "print(f\"Accuracy: {accuracy*100:.4f}%\")\n",
        "print(f\"Precision: {precision:.4f}\")\n",
        "print(f\"Recall: {recall:.4f}\")\n",
        "print(f\"F1 Score: {f1:.4f}\")"
      ],
      "metadata": {
        "colab": {
          "base_uri": "https://localhost:8080/"
        },
        "id": "CG2IxxSBW_rr",
        "outputId": "017150d9-6758-4bc0-b5dd-4db04c609750"
      },
      "execution_count": 17,
      "outputs": [
        {
          "output_type": "stream",
          "name": "stdout",
          "text": [
            "Accuracy: 100.0000%\n",
            "Precision: 1.0000\n",
            "Recall: 1.0000\n",
            "F1 Score: 1.0000\n"
          ]
        }
      ]
    },
    {
      "cell_type": "code",
      "source": [
        "# Calculate and print the confusion matrix\n",
        "cm = confusion_matrix(y_test, y_pred)"
      ],
      "metadata": {
        "id": "IKwN-tHJXrQP"
      },
      "execution_count": 18,
      "outputs": []
    },
    {
      "cell_type": "code",
      "source": [
        "# Plot confusion matrix using seaborn heatmap\n",
        "plt.figure(figsize=(8, 6))\n",
        "sns.heatmap(cm, annot=True, fmt='g', cmap='Blues', xticklabels=[\"Class 0\", \"Class 1\", \"Class 2\"], yticklabels=[\"Class 0\", \"Class 1\", \"Class 2\"])\n",
        "plt.title(\"Confusion Matrix\")\n",
        "plt.xlabel(\"Predicted Labels\")\n",
        "plt.ylabel(\"True Labels\")\n",
        "plt.show()"
      ],
      "metadata": {
        "colab": {
          "base_uri": "https://localhost:8080/",
          "height": 564
        },
        "id": "GDZ_KO_VXt2P",
        "outputId": "5e731246-18ff-4c52-9631-55e4bda9c563"
      },
      "execution_count": 19,
      "outputs": [
        {
          "output_type": "display_data",
          "data": {
            "text/plain": [
              "<Figure size 800x600 with 2 Axes>"
            ],
            "image/png": "[encoded data removed]"
          },
          "metadata": {}
        }
      ]
    },
    {
      "cell_type": "markdown",
      "source": [
        "---------------------------- Prepare receive input ----------------------------"
      ],
      "metadata": {
        "id": "FspV2abCGam-"
      }
    },
    {
      "cell_type": "code",
      "source": [
        "def calculate_credits(course_comp_input, course_elec_input):\n",
        "    # Split the input strings into lists of course codes\n",
        "    comp_courses = course_comp_input.replace(\" \", \"\").split(\",\")\n",
        "    elec_courses = course_elec_input.replace(\" \", \"\").split(\",\")\n",
        "\n",
        "    # Combine compulsory and elective courses\n",
        "    courses = comp_courses + elec_courses\n",
        "\n",
        "    # Valid categories, levels, and course codes\n",
        "    valid_categories = {'X', 'Y', 'Z', 'M', 'J', 'W'}\n",
        "    valid_levels = {'3', '4', '5', '6', '7'}\n",
        "    valid_course_codes = {'X3C', 'X3E', 'X4C', 'X4E', 'X5C', 'X5E', 'X6C', 'X7C', 'X7E', 'Y4C', 'Y7C', 'Z3C',\n",
        "                          'Z4C', 'Z5C', 'J3E', 'J4E', 'J5C', 'J5E', 'M3C', 'M4C', 'M5C', 'M6C', 'W4C', 'W5C'}\n",
        "\n",
        "    # Dictionary to store the calculated credits by category and level\n",
        "    credits_by_category_level = {code: 0 for code in valid_course_codes}\n",
        "\n",
        "    # List to store invalid course codes\n",
        "    invalid_codes = []\n",
        "\n",
        "    # Iterate through each course\n",
        "    for course in courses:\n",
        "        # Validate the course code\n",
        "        if len(course) != 7 or course[2] not in valid_categories or course[3] not in valid_levels or not course[4].isdigit():\n",
        "            invalid_codes.append(course)\n",
        "            continue\n",
        "\n",
        "        # Extract the category, level, and credit from the course code\n",
        "        category = course[2]  # 3rd letter (category)\n",
        "        level = course[3]     # 4th digit (level)\n",
        "        credit = int(course[4])  # 5th digit (credit)\n",
        "\n",
        "        # Create a key in the format 'CategoryLevelC'\n",
        "        key = f\"{category}{level}C\" or f\"{category}{level}E\"\n",
        "\n",
        "        # Add the credit to the respective category and level\n",
        "        if key in valid_course_codes:\n",
        "            if key in credits_by_category_level:\n",
        "                credits_by_category_level[key] += credit\n",
        "            else:\n",
        "                credits_by_category_level[key] = credit\n",
        "        else:\n",
        "            invalid_codes.append(course)\n",
        "\n",
        "    total_credits = sum(credits_by_category_level.values())\n",
        "\n",
        "    # Return the total credits and the credits by category-level dictionary as a feature set\n",
        "    return {\"Total_credit\": total_credits, **credits_by_category_level}, invalid_codes\n",
        "\n",
        "\n",
        "    # Print the results\n",
        "    for key, total_credit in credits_by_category_level.items():\n",
        "        print(f\"{key} = {total_credit} credits\")\n",
        "\n",
        "    # Display invalid course codes, if any\n",
        "    if invalid_codes:\n",
        "        for code in invalid_codes:\n",
        "          output_array.append(f\"There is no '{code}' course code in your degree.\")\n",
        "           # print(f\"There is no '{code}' course code in your degree.\")\n",
        "\n",
        "\n",
        "    total_credits = sum(credits_by_category_level.values())\n",
        "    output_array.append(f\"Total_credits = {total_credits} credits\")\n",
        "    #print(f\"Total_credits = {total_credits} credits\")\n",
        "\n",
        "# Get course codes input from the user\n",
        "course_comp_input = input(\"Enter Compulsory course codes (Ex:EEX7436, MHZ5554, ....): \")\n",
        "course_elec_input = input(\"Enter Elective course codes (Ex:EEX7244, EEX7241, ....): \")\n",
        "\n",
        "# Call the function to calculate credits\n",
        "#credits_output = calculate_credits(course_comp_input, course_elec_input)\n",
        "\n",
        "credit_features, invalid_codes = calculate_credits(course_comp_input, course_elec_input)\n",
        "print(\"Credit Features:\", credit_features)"
      ],
      "metadata": {
        "colab": {
          "base_uri": "https://localhost:8080/"
        },
        "id": "nl4yoyivZKrb",
        "outputId": "f199192e-52fc-4476-c59b-117ed5bfe38f"
      },
      "execution_count": 20,
      "outputs": [
        {
          "output_type": "stream",
          "name": "stdout",
          "text": [
            "Enter Compulsory course codes (Ex:EEX7436, MHZ5554, ....): MHZ5355, MHJ5342, DMX3305, EEX6335, EEX3331, EEX4351, EEX5536, EEX7337, EEX5351, DMX3107, EEX4436, EEX7436, EEY4181, EEX5346, EEX4332, EEX6181, MHZ3551, EEX4331, EEM6201, DMM6601, DMX3401, EEX5270, AGM3203, EEY7881, EEX3417, MHZ4553, EEX3351, EEX6236, EEX3336, EEX4435, EEX5335, AGM4307, CVM5401, EEW4301, MHZ5554, EEX3410\n",
            "Enter Elective course codes (Ex:EEX7244, EEX7241, ....): EEX3269, EEX5467, EEX5466, EEX4362, EEX3262, EEX5280, EEX7241, MHJ5343, MHJ4241, EEX7340, EEX4146, EEX4366, EEX3266, LLJ3245, EEX3372\n",
            "Credit Features: {'Total_credit': 155, 'X3C': 34, 'M5C': 4, 'Z3C': 5, 'X4E': 0, 'Y4C': 1, 'W4C': 3, 'X4C': 24, 'J5C': 6, 'X7E': 0, 'M4C': 3, 'Y7C': 8, 'J3E': 0, 'Z5C': 8, 'M6C': 8, 'X5C': 26, 'X5E': 0, 'X7C': 12, 'X3E': 0, 'W5C': 0, 'J5E': 0, 'J4E': 0, 'M3C': 2, 'X6C': 6, 'Z4C': 5}\n"
          ]
        }
      ]
    },
    {
      "cell_type": "code",
      "source": [
        "desired_order = [\n",
        "    'Total_credit', 'X3C', 'X3E', 'X4C', 'X4E', 'X5C', 'X5E', 'X6C', 'X7C', 'X7E', 'Y4C', 'Y7C',\n",
        "    'Z3C', 'Z4C', 'Z5C', 'J3E', 'J4E', 'J5C', 'J5E', 'M3C', 'M4C', 'M5C', 'M6C', 'W4C', 'W5C'\n",
        "]\n",
        "\n",
        "# Reordering the dictionary\n",
        "ordered_credit_features = {key: credit_features.get(key, 0) for key in desired_order}\n",
        "\n",
        "# Print the ordered output\n",
        "print(ordered_credit_features)"
      ],
      "metadata": {
        "colab": {
          "base_uri": "https://localhost:8080/"
        },
        "id": "bDX_zSaniuI3",
        "outputId": "61a4e67e-10cb-4552-a55f-a82543e080a6"
      },
      "execution_count": 21,
      "outputs": [
        {
          "output_type": "stream",
          "name": "stdout",
          "text": [
            "{'Total_credit': 155, 'X3C': 34, 'X3E': 0, 'X4C': 24, 'X4E': 0, 'X5C': 26, 'X5E': 0, 'X6C': 6, 'X7C': 12, 'X7E': 0, 'Y4C': 1, 'Y7C': 8, 'Z3C': 5, 'Z4C': 5, 'Z5C': 8, 'J3E': 0, 'J4E': 0, 'J5C': 6, 'J5E': 0, 'M3C': 2, 'M4C': 3, 'M5C': 4, 'M6C': 8, 'W4C': 3, 'W5C': 0}\n"
          ]
        }
      ]
    },
    {
      "cell_type": "markdown",
      "source": [
        "--------------------------- Test the code by using our inputs ---------------------------"
      ],
      "metadata": {
        "id": "QSFghHebkvRE"
      }
    },
    {
      "cell_type": "code",
      "source": [
        "# Assuming these are the features your model expects\n",
        "input_features = pd.DataFrame([ordered_credit_features])\n",
        "\n",
        "print(input_features)\n",
        "\n",
        "# Predict the class (academic level) based on the credit features\n",
        "predicted_class = model.predict(input_features)\n",
        "\n",
        "# Convert numerical prediction back to class label if necessary\n",
        "class_mapping = {0: 'Incomplete', 1: 'Level 3', 2: 'Level 4', 3: 'Level 5', 4: 'Level 6', 5: 'Level 7'}\n",
        "predicted_lable = class_mapping[predicted_class[0]]\n",
        "\n",
        "# Print the predicted academic level\n",
        "print(f\"Predicted Academic Level: {predicted_lable}\")"
      ],
      "metadata": {
        "colab": {
          "base_uri": "https://localhost:8080/"
        },
        "id": "tlrVupaHb55Y",
        "outputId": "3de04f96-cd33-4bc7-8ff2-cc5943e06ab3"
      },
      "execution_count": 22,
      "outputs": [
        {
          "output_type": "stream",
          "name": "stdout",
          "text": [
            "   Total_credit  X3C  X3E  X4C  X4E  X5C  X5E  X6C  X7C  X7E  ...  J3E  J4E  \\\n",
            "0           155   34    0   24    0   26    0    6   12    0  ...    0    0   \n",
            "\n",
            "   J5C  J5E  M3C  M4C  M5C  M6C  W4C  W5C  \n",
            "0    6    0    2    3    4    8    3    0  \n",
            "\n",
            "[1 rows x 25 columns]\n",
            "Predicted Academic Level: Level 7\n"
          ]
        }
      ]
    }
  ]
}